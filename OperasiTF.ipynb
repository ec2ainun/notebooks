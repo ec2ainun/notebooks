{
 "cells": [
  {
   "cell_type": "markdown",
   "metadata": {},
   "source": [
    "### Operasi Dasar di Tensorflow"
   ]
  },
  {
   "cell_type": "code",
   "execution_count": 2,
   "metadata": {
    "collapsed": false
   },
   "outputs": [],
   "source": [
    "import tensorflow as tf"
   ]
  },
  {
   "cell_type": "code",
   "execution_count": 12,
   "metadata": {
    "collapsed": false
   },
   "outputs": [
    {
     "name": "stdout",
     "output_type": "stream",
     "text": [
      "nilai a: 2   nilai b: 100 \n",
      "Penambahan pada konstan value: 102\n",
      "Perkalian pada konstan value: 200\n"
     ]
    }
   ],
   "source": [
    "# buat konstan value tensor\n",
    "a = tf.constant(2.0)\n",
    "b = tf.constant(100.0)\n",
    "\n",
    "# alokasi operasi yang ada di graph\n",
    "with tf.Session() as sess:\n",
    "    print(\"nilai a: %i \" % sess.run(a), \" nilai b: %i \" % sess.run(b))\n",
    "    print(\"Penambahan pada konstan value: %i\" % sess.run(a+b))\n",
    "    print(\"Perkalian pada konstan value: %i\" % sess.run(a*b))"
   ]
  },
  {
   "cell_type": "code",
   "execution_count": 18,
   "metadata": {
    "collapsed": false
   },
   "outputs": [
    {
     "name": "stdout",
     "output_type": "stream",
     "text": [
      "nilai a: 2   nilai b: 100 \n",
      "Penambahan : 102\n",
      "Pengurangan : 98\n",
      "Perkalian : 200\n",
      "Pembagian : 50\n",
      "Pangkat : 10000\n",
      "Modulus : 0\n",
      "Euler : 7\n",
      "akar : 10\n",
      "negasi : -100\n"
     ]
    }
   ],
   "source": [
    "tambah = tf.add(b, a)\n",
    "kurang = tf.subtract(b, a)\n",
    "kali = tf.multiply(b, a)\n",
    "bagi = tf.div(b, a)\n",
    "pangkat = tf.pow(b, a)\n",
    "modulus = tf.mod(b, a)\n",
    "euler = tf.exp(a)\n",
    "akar = tf.sqrt(b)\n",
    "negasi = tf.negative(b)\n",
    "\n",
    "with tf.Session() as sess:\n",
    "    print(\"nilai a: %i \" % sess.run(a), \" nilai b: %i \" % sess.run(b))\n",
    "    print(\"Penambahan : %i\" % sess.run(tambah))\n",
    "    print(\"Pengurangan : %i\" % sess.run(kurang))\n",
    "    print(\"Perkalian : %i\" % sess.run(kali))\n",
    "    print(\"Pembagian : %i\" % sess.run(bagi))\n",
    "    print(\"Pangkat : %i\" % sess.run(pangkat))\n",
    "    print(\"Modulus : %i\" % sess.run(modulus))\n",
    "    print(\"Euler : %i\" % sess.run(euler))\n",
    "    print(\"akar : %i\" % sess.run(akar))\n",
    "    print(\"negasi : %i\" % sess.run(negasi))"
   ]
  }
 ],
 "metadata": {
  "kernelspec": {
   "display_name": "Python 3",
   "language": "python",
   "name": "python3"
  },
  "language_info": {
   "codemirror_mode": {
    "name": "ipython",
    "version": 3
   },
   "file_extension": ".py",
   "mimetype": "text/x-python",
   "name": "python",
   "nbconvert_exporter": "python",
   "pygments_lexer": "ipython3",
   "version": "3.4.3"
  }
 },
 "nbformat": 4,
 "nbformat_minor": 2
}
