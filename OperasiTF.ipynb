{
 "cells": [
  {
   "cell_type": "markdown",
   "metadata": {
    "deletable": true,
    "editable": true
   },
   "source": [
    "### Operasi Dasar di Tensorflow"
   ]
  },
  {
   "cell_type": "code",
   "execution_count": 1,
   "metadata": {
    "collapsed": false,
    "deletable": true,
    "editable": true
   },
   "outputs": [],
   "source": [
    "import tensorflow as tf"
   ]
  },
  {
   "cell_type": "code",
   "execution_count": 2,
   "metadata": {
    "collapsed": false,
    "deletable": true,
    "editable": true
   },
   "outputs": [
    {
     "name": "stdout",
     "output_type": "stream",
     "text": [
      "nilai a: 2   nilai b: 100 \n",
      "Penambahan pada konstan value: 102\n",
      "Perkalian pada konstan value: 200\n"
     ]
    }
   ],
   "source": [
    "# buat konstan value tensor\n",
    "a = tf.constant(2, tf.float32, name=\"a\")\n",
    "b = tf.constant(100, tf.float32, name=\"b\")\n",
    "\n",
    "# alokasi operasi yang ada di graph\n",
    "with tf.Session() as sess:\n",
    "    print(\"nilai a: %i \" % sess.run(a), \" nilai b: %i \" % sess.run(b))\n",
    "    print(\"Penambahan pada konstan value: %i\" % sess.run(a+b))\n",
    "    print(\"Perkalian pada konstan value: %i\" % sess.run(a*b))"
   ]
  },
  {
   "cell_type": "code",
   "execution_count": 3,
   "metadata": {
    "collapsed": false,
    "deletable": true,
    "editable": true
   },
   "outputs": [
    {
     "name": "stdout",
     "output_type": "stream",
     "text": [
      "nilai a: 2   nilai b: 100 \n",
      "Penambahan : 102\n",
      "Pengurangan : 98\n",
      "Perkalian : 200\n",
      "Pembagian : 50\n",
      "Pangkat : 10000\n",
      "Modulus : 0\n",
      "Euler : 7\n",
      "akar : 10\n",
      "negasi : -100\n",
      "mutlak : 100\n"
     ]
    }
   ],
   "source": [
    "tambah = tf.add(b, a)\n",
    "kurang = tf.subtract(b, a)\n",
    "kali = tf.multiply(b, a)\n",
    "bagi = tf.div(b, a)\n",
    "pangkat = tf.pow(b, a)\n",
    "modulus = tf.mod(b, a)\n",
    "euler = tf.exp(a)\n",
    "akar = tf.sqrt(b)\n",
    "negasi = tf.negative(b)\n",
    "mutlak = tf.abs(negasi)\n",
    "\n",
    "with tf.Session() as sess:\n",
    "    print(\"nilai a: %i \" % sess.run(a), \" nilai b: %i \" % sess.run(b))\n",
    "    print(\"Penambahan : %i\" % sess.run(tambah))\n",
    "    print(\"Pengurangan : %i\" % sess.run(kurang))\n",
    "    print(\"Perkalian : %i\" % sess.run(kali))\n",
    "    print(\"Pembagian : %i\" % sess.run(bagi))\n",
    "    print(\"Pangkat : %i\" % sess.run(pangkat))\n",
    "    print(\"Modulus : %i\" % sess.run(modulus))\n",
    "    print(\"Euler : %i\" % sess.run(euler))\n",
    "    print(\"akar : %i\" % sess.run(akar))\n",
    "    print(\"negasi : %i\" % sess.run(negasi))\n",
    "    print(\"mutlak : %i\" % sess.run(mutlak))"
   ]
  },
  {
   "cell_type": "code",
   "execution_count": 4,
   "metadata": {
    "collapsed": true
   },
   "outputs": [],
   "source": [
    "# 1x2\n",
    "matrix1 = tf.constant([[3,3]])\n",
    "# 2x1\n",
    "matrix2 = tf.constant([[2],[2]])\n",
    "# perkalian matriks\n",
    "perkalian = tf.matmul(matrix1, matrix2)"
   ]
  },
  {
   "cell_type": "code",
   "execution_count": 5,
   "metadata": {
    "collapsed": false
   },
   "outputs": [
    {
     "name": "stdout",
     "output_type": "stream",
     "text": [
      "[[12]]\n"
     ]
    }
   ],
   "source": [
    "with tf.Session() as sess:\n",
    "    result = sess.run(perkalian)\n",
    "    print(result)"
   ]
  },
  {
   "cell_type": "code",
   "execution_count": 6,
   "metadata": {
    "collapsed": false
   },
   "outputs": [
    {
     "data": {
      "text/plain": [
       "TensorShape([Dimension(1), Dimension(1)])"
      ]
     },
     "execution_count": 6,
     "metadata": {},
     "output_type": "execute_result"
    }
   ],
   "source": [
    "perkalian.get_shape()"
   ]
  },
  {
   "cell_type": "code",
   "execution_count": 7,
   "metadata": {
    "collapsed": false
   },
   "outputs": [
    {
     "name": "stdout",
     "output_type": "stream",
     "text": [
      "Tensor(\"MatMul:0\", shape=(1, 1), dtype=int32)\n"
     ]
    }
   ],
   "source": [
    "print(perkalian)"
   ]
  }
 ],
 "metadata": {
  "kernelspec": {
   "display_name": "Python 3",
   "language": "python",
   "name": "python3"
  },
  "language_info": {
   "codemirror_mode": {
    "name": "ipython",
    "version": 3
   },
   "file_extension": ".py",
   "mimetype": "text/x-python",
   "name": "python",
   "nbconvert_exporter": "python",
   "pygments_lexer": "ipython3",
   "version": "3.4.3"
  }
 },
 "nbformat": 4,
 "nbformat_minor": 2
}
