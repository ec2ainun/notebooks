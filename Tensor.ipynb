{
 "cells": [
  {
   "cell_type": "markdown",
   "metadata": {
    "deletable": true,
    "editable": true
   },
   "source": [
    "# Pengantar Tensorflow\n",
    "Tensor merupakan konsep inti dari Tensorflow\n",
    "\n",
    "TensorFlow programs menggunakan tensor data struktur untuk merepresentasikan semua data yang ada (hanya tipe data tensor yang dapat dikomputasi). singkatnya Tensor merupakan n-dimensi array atau list.\n",
    "\n",
    "##### Di TensorFlow, data tidak disimpan dalam bentuk integer, float, ataupun string. Value-value ini di enkapsulasi dalam object yang dinamakan tensor"
   ]
  },
  {
   "cell_type": "code",
   "execution_count": 1,
   "metadata": {
    "collapsed": true,
    "deletable": true,
    "editable": true
   },
   "outputs": [],
   "source": [
    "import tensorflow as tf"
   ]
  },
  {
   "cell_type": "markdown",
   "metadata": {
    "deletable": true,
    "editable": true
   },
   "source": [
    "## Hello, Tensorflow!"
   ]
  },
  {
   "cell_type": "markdown",
   "metadata": {
    "deletable": true,
    "editable": true
   },
   "source": [
    "buat sebuah TensorFlow object dengan nama hai"
   ]
  },
  {
   "cell_type": "code",
   "execution_count": 2,
   "metadata": {
    "collapsed": true,
    "deletable": true,
    "editable": true
   },
   "outputs": [],
   "source": [
    "hai = tf.constant('Hello World!')"
   ]
  },
  {
   "cell_type": "code",
   "execution_count": 3,
   "metadata": {
    "collapsed": false,
    "deletable": true,
    "editable": true
   },
   "outputs": [
    {
     "data": {
      "text/plain": [
       "TensorShape([])"
      ]
     },
     "execution_count": 3,
     "metadata": {},
     "output_type": "execute_result"
    }
   ],
   "source": [
    "hai.get_shape()"
   ]
  },
  {
   "cell_type": "markdown",
   "metadata": {
    "deletable": true,
    "editable": true
   },
   "source": [
    "## Session\n",
    "API dari TensorFlow dibuat berdasarkan konsep komputasi graph. Komputasi graph merupakan cara untuk memvisualisasikan proses operasi matematika yang ada"
   ]
  },
  {
   "cell_type": "markdown",
   "metadata": {
    "deletable": true,
    "editable": true
   },
   "source": [
    "<img src=\"session.png\" height=\"500\" width=\"500\">"
   ]
  },
  {
   "cell_type": "markdown",
   "metadata": {
    "deletable": true,
    "editable": true
   },
   "source": [
    "TensorFlow Session merupakan sebuah environment untuk menjalankan sebuah graph. Session berguna untuk mengalokasikan operasi-operasi yang ada dalam graph ke dalam GPU ataupun CPU."
   ]
  },
  {
   "cell_type": "code",
   "execution_count": 4,
   "metadata": {
    "collapsed": false,
    "deletable": true,
    "editable": true
   },
   "outputs": [
    {
     "name": "stdout",
     "output_type": "stream",
     "text": [
      "b'Hello World!'\n"
     ]
    }
   ],
   "source": [
    "with tf.Session() as sess:\n",
    "    output = sess.run(hai)\n",
    "    print(output)"
   ]
  },
  {
   "cell_type": "markdown",
   "metadata": {
    "deletable": true,
    "editable": true
   },
   "source": [
    "## Tensor\n",
    "Sebuah Tensor memiliki sebuah name, shape, dan type. \n",
    "- name dalam tensor berfungsi untuk memberi nama sebuah node dalam graph, \n",
    "- shape dalam tensor berfungsi untuk mengetahui ukuran dimensi sebuah tensor\n",
    "- type dalam tensor berfungsi untuk menginisalisasi type data dari sebuah tensor\n",
    "\n",
    "Tensor rank mendefinisikan dimensi dalam sebuah tensor, sebagai contoh \n",
    "- rank 0 tensor merupakan sebuah besaran scalar, \n",
    "- rank 1 tensor merupakan sebuah besaran vektor, \n",
    "- rank 2 tensor merupakan matrix, dan seterusnya.\n",
    "\n",
    "Terdapat 3 cara dalam mendefinisikan suatu tensor:\n",
    "- Constant\n",
    "- Variable\n",
    "- Placeholder\n",
    "\n",
    "### Constant\n",
    "Constant dalam tensorflow merupakan sebuah tensor yang memiliki fix value."
   ]
  },
  {
   "cell_type": "code",
   "execution_count": 5,
   "metadata": {
    "collapsed": true,
    "deletable": true,
    "editable": true
   },
   "outputs": [],
   "source": [
    "skalar = tf.constant(100000)\n",
    "vektor = tf.constant([1,2,3,4,5])\n",
    "matrik = tf.constant([[1,2],\n",
    "                      [3,4],\n",
    "                      [5,6]])\n",
    "kubik = tf.constant([[[1,2],[3,4],[5,6]],\n",
    "                     [[7,8],[9,10],[11,12]]])"
   ]
  },
  {
   "cell_type": "markdown",
   "metadata": {
    "deletable": true,
    "editable": true
   },
   "source": [
    "#### Tensor shape digunakan untuk menunjukkan ukuran dimensi dari tensor"
   ]
  },
  {
   "cell_type": "code",
   "execution_count": 6,
   "metadata": {
    "collapsed": false,
    "deletable": true,
    "editable": true
   },
   "outputs": [
    {
     "data": {
      "text/plain": [
       "TensorShape([])"
      ]
     },
     "execution_count": 6,
     "metadata": {},
     "output_type": "execute_result"
    }
   ],
   "source": [
    "skalar.get_shape()"
   ]
  },
  {
   "cell_type": "code",
   "execution_count": 7,
   "metadata": {
    "collapsed": false,
    "deletable": true,
    "editable": true
   },
   "outputs": [
    {
     "data": {
      "text/plain": [
       "TensorShape([Dimension(5)])"
      ]
     },
     "execution_count": 7,
     "metadata": {},
     "output_type": "execute_result"
    }
   ],
   "source": [
    "vektor.get_shape()"
   ]
  },
  {
   "cell_type": "code",
   "execution_count": 8,
   "metadata": {
    "collapsed": false,
    "deletable": true,
    "editable": true
   },
   "outputs": [
    {
     "data": {
      "text/plain": [
       "TensorShape([Dimension(3), Dimension(2)])"
      ]
     },
     "execution_count": 8,
     "metadata": {},
     "output_type": "execute_result"
    }
   ],
   "source": [
    "matrik.get_shape()"
   ]
  },
  {
   "cell_type": "code",
   "execution_count": 9,
   "metadata": {
    "collapsed": false,
    "deletable": true,
    "editable": true
   },
   "outputs": [
    {
     "data": {
      "text/plain": [
       "TensorShape([Dimension(2), Dimension(3), Dimension(2)])"
      ]
     },
     "execution_count": 9,
     "metadata": {},
     "output_type": "execute_result"
    }
   ],
   "source": [
    "kubik.get_shape()"
   ]
  },
  {
   "cell_type": "markdown",
   "metadata": {},
   "source": [
    "#### Sebuah tensor memiliki: name, shape, dan type "
   ]
  },
  {
   "cell_type": "code",
   "execution_count": 10,
   "metadata": {
    "collapsed": false,
    "deletable": true,
    "editable": true
   },
   "outputs": [
    {
     "name": "stdout",
     "output_type": "stream",
     "text": [
      "Tensor(\"Const_1:0\", shape=(), dtype=int32)\n"
     ]
    }
   ],
   "source": [
    "print(skalar)"
   ]
  },
  {
   "cell_type": "code",
   "execution_count": 11,
   "metadata": {
    "collapsed": false,
    "deletable": true,
    "editable": true
   },
   "outputs": [
    {
     "name": "stdout",
     "output_type": "stream",
     "text": [
      "Tensor(\"Const_2:0\", shape=(5,), dtype=int32)\n"
     ]
    }
   ],
   "source": [
    "print(vektor)"
   ]
  },
  {
   "cell_type": "code",
   "execution_count": 12,
   "metadata": {
    "collapsed": false,
    "deletable": true,
    "editable": true
   },
   "outputs": [
    {
     "name": "stdout",
     "output_type": "stream",
     "text": [
      "Tensor(\"Const_3:0\", shape=(3, 2), dtype=int32)\n"
     ]
    }
   ],
   "source": [
    "print(matrik)"
   ]
  },
  {
   "cell_type": "code",
   "execution_count": 13,
   "metadata": {
    "collapsed": false,
    "deletable": true,
    "editable": true
   },
   "outputs": [
    {
     "name": "stdout",
     "output_type": "stream",
     "text": [
      "Tensor(\"Const_4:0\", shape=(2, 3, 2), dtype=int32)\n"
     ]
    }
   ],
   "source": [
    "print(kubik)"
   ]
  },
  {
   "cell_type": "markdown",
   "metadata": {
    "collapsed": true,
    "deletable": true,
    "editable": true
   },
   "source": [
    "### Variables\n",
    "Variable dalam tensorflow merupakan sebuah tensor yang berfungsi untuk mengatur state selama proses eksekusi sebuah graph, sehingga dapat mengupdate nilai sebuah tensor."
   ]
  },
  {
   "cell_type": "code",
   "execution_count": 14,
   "metadata": {
    "collapsed": false
   },
   "outputs": [],
   "source": [
    "state = tf.Variable(0, name=\"hitung\")"
   ]
  },
  {
   "cell_type": "code",
   "execution_count": 15,
   "metadata": {
    "collapsed": false
   },
   "outputs": [
    {
     "name": "stdout",
     "output_type": "stream",
     "text": [
      "Tensor(\"hitung/read:0\", shape=(), dtype=int32)\n"
     ]
    }
   ],
   "source": [
    "print(state)"
   ]
  },
  {
   "cell_type": "code",
   "execution_count": 16,
   "metadata": {
    "collapsed": true
   },
   "outputs": [],
   "source": [
    "satu = tf.constant(1)\n",
    "nilaiBaru = tf.add(state, satu)\n",
    "updateNilai = tf.assign(state, nilaiBaru)"
   ]
  },
  {
   "cell_type": "code",
   "execution_count": 17,
   "metadata": {
    "collapsed": true
   },
   "outputs": [],
   "source": [
    "initOperasi = tf.global_variables_initializer()"
   ]
  },
  {
   "cell_type": "code",
   "execution_count": 18,
   "metadata": {
    "collapsed": false
   },
   "outputs": [
    {
     "name": "stdout",
     "output_type": "stream",
     "text": [
      "0\n",
      "1\n",
      "2\n",
      "3\n"
     ]
    }
   ],
   "source": [
    "with tf.Session() as sess:\n",
    "    sess.run(initOperasi)\n",
    "    # Print nilai state awal\n",
    "    print(sess.run(state))\n",
    "    # Menjalankan operasi ayng mengupdate nilai 'state' dan di print.\n",
    "    for _ in range(3):\n",
    "        sess.run(updateNilai)\n",
    "        print(sess.run(state))"
   ]
  },
  {
   "cell_type": "markdown",
   "metadata": {},
   "source": [
    "### Fetch\n",
    "Defenisi Fetch secara umum adalah mendapatkan beberapa data dari beberapa tempat sehingga program dapat melakukan sesuatu dengan data tersebut. di TensorFlow, untuk fetch sebuah output dari operasi, Tensorflow mengeksekusi graph dengan method run yang ada di Session Object dan mendapatkan nilai dari tensor untuk di proses.\n",
    "dalam Contoh diatas, tensorflow melakukan fetch untuk single node state, contoh dibawah ini kita akan melakukan fetch untuk multiple tensor."
   ]
  },
  {
   "cell_type": "code",
   "execution_count": 19,
   "metadata": {
    "collapsed": false
   },
   "outputs": [
    {
     "name": "stdout",
     "output_type": "stream",
     "text": [
      "[array([ 21.], dtype=float32), array([ 7.], dtype=float32)]\n"
     ]
    }
   ],
   "source": [
    "input1 = tf.constant([3.0], tf.float32)\n",
    "input2 = tf.constant([2.0], tf.float32)\n",
    "input3 = tf.constant([5.0], tf.float32)\n",
    "perantara = tf.add(input2, input3)\n",
    "perkalian = tf.multiply(input1, perantara)\n",
    "\n",
    "with tf.Session() as sess:\n",
    "    hasil = sess.run([perkalian, perantara])\n",
    "    print(hasil)"
   ]
  },
  {
   "cell_type": "markdown",
   "metadata": {},
   "source": [
    "Penjelasan contoh diatas:\n",
    "\n",
    "- langkah pertama membuat 3 buah constant tensor\n",
    "- langkah selanjutnya melakukan penambahan dari constant tensor input2 dan input3\n",
    "- lalu hasil dari penambahan tersebut dikalikan dengan constant tensor input1"
   ]
  },
  {
   "cell_type": "markdown",
   "metadata": {},
   "source": [
    "### Placeholder\n",
    "Placeholder dalam tensorflow merupakan sebuah tensor yang berfungsi untuk menginisialisasi sebiah tensor dan menyediakan tensor kosong sehingga memungkinkan di isi dengan value dari data dengan cara **feed_dict**."
   ]
  },
  {
   "cell_type": "code",
   "execution_count": 20,
   "metadata": {
    "collapsed": false
   },
   "outputs": [
    {
     "name": "stdout",
     "output_type": "stream",
     "text": [
      "[array([ 14.], dtype=float32)]\n"
     ]
    }
   ],
   "source": [
    "inputKosong1 = tf.placeholder(tf.float32)\n",
    "inputKosong2 = tf.placeholder(tf.float32)\n",
    "kali = tf.multiply(inputKosong1, inputKosong2)\n",
    "\n",
    "with tf.Session() as sess:\n",
    "    print(sess.run([kali], feed_dict={inputKosong1:[7], inputKosong2:[2]}))"
   ]
  },
  {
   "cell_type": "code",
   "execution_count": null,
   "metadata": {
    "collapsed": true
   },
   "outputs": [],
   "source": []
  }
 ],
 "metadata": {
  "kernelspec": {
   "display_name": "Python 3",
   "language": "python",
   "name": "python3"
  },
  "language_info": {
   "codemirror_mode": {
    "name": "ipython",
    "version": 3
   },
   "file_extension": ".py",
   "mimetype": "text/x-python",
   "name": "python",
   "nbconvert_exporter": "python",
   "pygments_lexer": "ipython3",
   "version": "3.4.3"
  }
 },
 "nbformat": 4,
 "nbformat_minor": 2
}
